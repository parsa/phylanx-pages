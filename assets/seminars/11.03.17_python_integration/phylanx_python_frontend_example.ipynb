{
 "cells": [
  {
   "cell_type": "code",
   "execution_count": 1,
   "metadata": {
    "slideshow": {
     "slide_type": "-"
    }
   },
   "outputs": [
    {
     "name": "stdout",
     "output_type": "stream",
     "text": [
      "sin(x*y)/2\n",
      "Mul(Rational(1, 2), sin(Mul(Symbol('x'), Symbol('y'))))\n"
     ]
    }
   ],
   "source": [
    "from sympy import symbols, sin, srepr\n",
    "x, y, z = symbols('x y z')                                                             \n",
    "z = x * y                                                                                  \n",
    "sin_z = sin(z)                                                                     \n",
    "expr = sin_z / 2\n",
    "print(expr)\n",
    "print(srepr(expr))"
   ]
  },
  {
   "cell_type": "code",
   "execution_count": 2,
   "metadata": {},
   "outputs": [
    {
     "name": "stdout",
     "output_type": "stream",
     "text": [
      "sin(x*y)/2\n",
      "1/2\n",
      "sin(x*y)\n",
      "x*y\n",
      "x\n",
      "y\n"
     ]
    }
   ],
   "source": [
    "from sympy import preorder_traversal\n",
    "for arg in preorder_traversal(expr):                                                \n",
    "    print(arg)"
   ]
  },
  {
   "cell_type": "code",
   "execution_count": 3,
   "metadata": {},
   "outputs": [
    {
     "name": "stdout",
     "output_type": "stream",
     "text": [
      "1/2\n",
      "x\n",
      "y\n",
      "x*y\n",
      "sin(x*y)\n",
      "sin(x*y)/2\n"
     ]
    }
   ],
   "source": [
    "from sympy import postorder_traversal\n",
    "for arg in postorder_traversal(expr):                                                \n",
    "    print(arg)"
   ]
  },
  {
   "cell_type": "code",
   "execution_count": 4,
   "metadata": {
    "collapsed": true
   },
   "outputs": [],
   "source": [
    "from sympy import MatrixSymbol, Matrix\n",
    "\n",
    "A = MatrixSymbol('A', 4, 4)\n",
    "B = MatrixSymbol('B', 4, 4)"
   ]
  },
  {
   "cell_type": "code",
   "execution_count": 5,
   "metadata": {},
   "outputs": [
    {
     "name": "stdout",
     "output_type": "stream",
     "text": [
      "A\n"
     ]
    }
   ],
   "source": [
    "print(A)"
   ]
  },
  {
   "cell_type": "code",
   "execution_count": 6,
   "metadata": {},
   "outputs": [
    {
     "name": "stdout",
     "output_type": "stream",
     "text": [
      "MatrixSymbol('A', Integer(4), Integer(4))\n"
     ]
    }
   ],
   "source": [
    "print(srepr(A))"
   ]
  },
  {
   "cell_type": "code",
   "execution_count": 7,
   "metadata": {},
   "outputs": [
    {
     "name": "stdout",
     "output_type": "stream",
     "text": [
      "A + B\n",
      "MatAdd(MatrixSymbol('A', Integer(4), Integer(4)), MatrixSymbol('B', Integer(4), Integer(4)))\n"
     ]
    }
   ],
   "source": [
    "C = A + B\n",
    "print(C)\n",
    "print(srepr(C))"
   ]
  },
  {
   "cell_type": "code",
   "execution_count": 8,
   "metadata": {
    "scrolled": false
   },
   "outputs": [
    {
     "name": "stdout",
     "output_type": "stream",
     "text": [
      "A[:2, :4]\n",
      "MatrixSlice(MatrixSymbol('A', Integer(4), Integer(4)), Tuple(Integer(0), Integer(2), Integer(1)), Tuple(Integer(0), Integer(4), Integer(1)))\n"
     ]
    }
   ],
   "source": [
    "A1 = A[:2, :]\n",
    "A2 = A[2:, :]\n",
    "print(A1)\n",
    "print(srepr(A1))\n"
   ]
  },
  {
   "cell_type": "code",
   "execution_count": 9,
   "metadata": {},
   "outputs": [
    {
     "name": "stdout",
     "output_type": "stream",
     "text": [
      "Matrix([[A[0, 0], A[0, 1], A[0, 2], A[0, 3], A[2, 0], A[2, 1], A[2, 2], A[2, 3]], [A[1, 0], A[1, 1], A[1, 2], A[1, 3], A[3, 0], A[3, 1], A[3, 2], A[3, 3]]])\n"
     ]
    }
   ],
   "source": [
    "A_ = Matrix(A1).row_join(Matrix(A2))\n",
    "print(A_)"
   ]
  }
 ],
 "metadata": {
  "kernelspec": {
   "display_name": "Python 3.6",
   "language": "python",
   "name": "python36"
  },
  "language_info": {
   "codemirror_mode": {
    "name": "ipython",
    "version": 3
   },
   "file_extension": ".py",
   "mimetype": "text/x-python",
   "name": "python",
   "nbconvert_exporter": "python",
   "pygments_lexer": "ipython3",
   "version": "3.6.0"
  }
 },
 "nbformat": 4,
 "nbformat_minor": 2
}
