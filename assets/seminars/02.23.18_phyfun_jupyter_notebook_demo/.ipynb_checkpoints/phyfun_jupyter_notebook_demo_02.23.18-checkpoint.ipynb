{
 "cells": [
  {
   "cell_type": "markdown",
   "metadata": {},
   "source": [
    "# Phylanx in Python: A Tool that Sort-Of Works"
   ]
  },
  {
   "cell_type": "code",
   "execution_count": 3,
   "metadata": {},
   "outputs": [],
   "source": [
    "import phylanx\n",
    "from phylanx.ast import *\n",
    "from phylanx.ast.utils import printout\n",
    "import numpy as np\n",
    "\n",
    "et = phylanx.execution_tree"
   ]
  },
  {
   "cell_type": "code",
   "execution_count": 4,
   "metadata": {},
   "outputs": [
    {
     "name": "stdout",
     "output_type": "stream",
     "text": [
      "55\n"
     ]
    }
   ],
   "source": [
    "# Step 1: Write PhySL code in PhySL\n",
    "# but execute it with Python\n",
    "result = et.eval(\"\"\"\n",
    "block(\n",
    "    define(fib,n,\n",
    "    if(n<2,n,\n",
    "        fib(n-1)+fib(n-2))),\n",
    "    fib)\"\"\",et.var(10))\n",
    "print(result)"
   ]
  },
  {
   "cell_type": "code",
   "execution_count": 5,
   "metadata": {},
   "outputs": [],
   "source": [
    "# Step 2: Write Python code that\n",
    "# gets magically turned into PhySL code.\n",
    "\n",
    "@Phylanx() # biuld with phylanx!\n",
    "def foo():\n",
    "    print(\"hello\")   # normal code\n",
    "    return 1         # At the moment, it needs a valid return type"
   ]
  },
  {
   "cell_type": "code",
   "execution_count": 6,
   "metadata": {},
   "outputs": [
    {
     "data": {
      "text/plain": [
       "<_phylanx.execution_tree.primitive at 0x7fe73c0abd50>"
      ]
     },
     "execution_count": 6,
     "metadata": {},
     "output_type": "execute_result"
    }
   ],
   "source": [
    "foo() # This worked, but the output looks obscure"
   ]
  },
  {
   "cell_type": "code",
   "execution_count": 7,
   "metadata": {},
   "outputs": [
    {
     "data": {
      "text/plain": [
       "1.0"
      ]
     },
     "execution_count": 7,
     "metadata": {},
     "output_type": "execute_result"
    }
   ],
   "source": [
    "foo()[0] # Extract the Python value"
   ]
  },
  {
   "cell_type": "code",
   "execution_count": 8,
   "metadata": {},
   "outputs": [
    {
     "name": "stdout",
     "output_type": "stream",
     "text": [
      "1.0\n"
     ]
    }
   ],
   "source": [
    "printout(foo()) # This also works."
   ]
  },
  {
   "cell_type": "code",
   "execution_count": 9,
   "metadata": {},
   "outputs": [],
   "source": [
    "import numpy as np\n",
    "f = np.linspace(0,10,11) # create a simple numpy array"
   ]
  },
  {
   "cell_type": "code",
   "execution_count": 10,
   "metadata": {},
   "outputs": [
    {
     "name": "stdout",
     "output_type": "stream",
     "text": [
      "output\n",
      "[  0.   1.   2.   3.   4.   5.   6.   7.   8.   9.  10.]\n"
     ]
    }
   ],
   "source": [
    "@Phylanx\n",
    "def pr(a):\n",
    "    print(a) # This prints to the console, so we don't see it.\n",
    "    return a[1:5] # Slicing works\n",
    "print(\"output\")\n",
    "print(f) # print the numpy array, we can pass it to phylanx\n",
    "#print(pr(f)) # phy_print should know how to print arrays"
   ]
  },
  {
   "cell_type": "code",
   "execution_count": 11,
   "metadata": {},
   "outputs": [
    {
     "data": {
      "text/plain": [
       "14"
      ]
     },
     "execution_count": 11,
     "metadata": {},
     "output_type": "execute_result"
    }
   ],
   "source": [
    "# About the console issue... the problem is stdout doesn't go to the notebook.\n",
    "import os\n",
    "os.write(1,b'Hello, Console')"
   ]
  },
  {
   "cell_type": "code",
   "execution_count": 12,
   "metadata": {},
   "outputs": [
    {
     "name": "stdout",
     "output_type": "stream",
     "text": [
      "block$1$0(define$1$0(foo$1$0, block$1$0(cout(\"hello\"),  1)), foo$1$0)\n",
      "\n",
      "block(define(foo, block(cout(\"hello\"),  1)), foo)\n",
      "\n"
     ]
    }
   ],
   "source": [
    "# You can access the source code like this.\n",
    "# We have $ in the symbol names to identify line and column number.\n",
    "print(foo.__physl_src__)\n",
    "\n",
    "# Using regexes, we can make it more human readable\n",
    "import re\n",
    "print(re.sub(r'\\$\\d+','',foo.__physl_src__))"
   ]
  },
  {
   "cell_type": "code",
   "execution_count": 13,
   "metadata": {},
   "outputs": [
    {
     "ename": "Exception",
     "evalue": "Return only allowed at end of function: line=3\n",
     "output_type": "error",
     "traceback": [
      "\u001b[0;31m---------------------------------------------------------------------------\u001b[0m",
      "\u001b[0;31mException\u001b[0m                                 Traceback (most recent call last)",
      "\u001b[0;32m<ipython-input-13-115beb1bb6a9>\u001b[0m in \u001b[0;36m<module>\u001b[0;34m()\u001b[0m\n\u001b[0;32m----> 1\u001b[0;31m \u001b[0;34m@\u001b[0m\u001b[0mPhylanx\u001b[0m\u001b[0;34m(\u001b[0m\u001b[0;34m)\u001b[0m\u001b[0;34m\u001b[0m\u001b[0m\n\u001b[0m\u001b[1;32m      2\u001b[0m \u001b[0;32mdef\u001b[0m \u001b[0mfib\u001b[0m\u001b[0;34m(\u001b[0m\u001b[0mn\u001b[0m\u001b[0;34m)\u001b[0m\u001b[0;34m:\u001b[0m\u001b[0;34m\u001b[0m\u001b[0m\n\u001b[1;32m      3\u001b[0m     \u001b[0;32mif\u001b[0m \u001b[0mn\u001b[0m \u001b[0;34m<\u001b[0m \u001b[0;36m2\u001b[0m\u001b[0;34m:\u001b[0m\u001b[0;34m\u001b[0m\u001b[0m\n\u001b[1;32m      4\u001b[0m         \u001b[0;32mreturn\u001b[0m \u001b[0mn\u001b[0m\u001b[0;34m\u001b[0m\u001b[0m\n\u001b[1;32m      5\u001b[0m     \u001b[0mf1\u001b[0m \u001b[0;34m=\u001b[0m \u001b[0mfib\u001b[0m\u001b[0;34m(\u001b[0m\u001b[0mn\u001b[0m\u001b[0;34m-\u001b[0m\u001b[0;36m1\u001b[0m\u001b[0;34m)\u001b[0m\u001b[0;34m\u001b[0m\u001b[0m\n",
      "\u001b[0;32m~/.local/lib/python3.5/site-packages/phylanx-0.0.1-py3.5-linux-x86_64.egg/phylanx/ast/transformation.py\u001b[0m in \u001b[0;36m__init__\u001b[0;34m(self, f)\u001b[0m\n\u001b[1;32m    436\u001b[0m \u001b[0;34m\u001b[0m\u001b[0m\n\u001b[1;32m    437\u001b[0m             self.__physl_src__ = '%s(%s)\\n' % (\n\u001b[0;32m--> 438\u001b[0;31m                 full_node_name(tree.body[0], 'block'), physl.recompile(tree))\n\u001b[0m\u001b[1;32m    439\u001b[0m \u001b[0;34m\u001b[0m\u001b[0m\n\u001b[1;32m    440\u001b[0m         \u001b[0;32mdef\u001b[0m \u001b[0m__call__\u001b[0m\u001b[0;34m(\u001b[0m\u001b[0mself\u001b[0m\u001b[0;34m,\u001b[0m \u001b[0;34m*\u001b[0m\u001b[0margs\u001b[0m\u001b[0;34m)\u001b[0m\u001b[0;34m:\u001b[0m\u001b[0;34m\u001b[0m\u001b[0m\n",
      "\u001b[0;32m~/.local/lib/python3.5/site-packages/phylanx-0.0.1-py3.5-linux-x86_64.egg/phylanx/ast/transformation.py\u001b[0m in \u001b[0;36mrecompile\u001b[0;34m(self, a, allowreturn)\u001b[0m\n\u001b[1;32m    376\u001b[0m                 \u001b[0;32mreturn\u001b[0m \u001b[0mself\u001b[0m\u001b[0;34m.\u001b[0m\u001b[0mnodes\u001b[0m\u001b[0;34m[\u001b[0m\u001b[0mnm\u001b[0m\u001b[0;34m]\u001b[0m\u001b[0;34m(\u001b[0m\u001b[0mself\u001b[0m\u001b[0;34m,\u001b[0m \u001b[0ma\u001b[0m\u001b[0;34m,\u001b[0m \u001b[0mallowreturn\u001b[0m\u001b[0;34m)\u001b[0m\u001b[0;34m\u001b[0m\u001b[0m\n\u001b[1;32m    377\u001b[0m             \u001b[0;32melse\u001b[0m\u001b[0;34m:\u001b[0m\u001b[0;34m\u001b[0m\u001b[0m\n\u001b[0;32m--> 378\u001b[0;31m                 \u001b[0;32mreturn\u001b[0m \u001b[0mself\u001b[0m\u001b[0;34m.\u001b[0m\u001b[0mnodes\u001b[0m\u001b[0;34m[\u001b[0m\u001b[0mnm\u001b[0m\u001b[0;34m]\u001b[0m\u001b[0;34m(\u001b[0m\u001b[0mself\u001b[0m\u001b[0;34m,\u001b[0m \u001b[0ma\u001b[0m\u001b[0;34m)\u001b[0m\u001b[0;34m\u001b[0m\u001b[0m\n\u001b[0m\u001b[1;32m    379\u001b[0m         \u001b[0;32mexcept\u001b[0m \u001b[0mNotImplementedError\u001b[0m\u001b[0;34m:\u001b[0m\u001b[0;34m\u001b[0m\u001b[0m\n\u001b[1;32m    380\u001b[0m             \u001b[0;32mraise\u001b[0m \u001b[0mException\u001b[0m\u001b[0;34m(\u001b[0m\u001b[0;34m'unsupported AST node type: %s'\u001b[0m \u001b[0;34m%\u001b[0m \u001b[0mnm\u001b[0m\u001b[0;34m)\u001b[0m\u001b[0;34m\u001b[0m\u001b[0m\n",
      "\u001b[0;32m~/.local/lib/python3.5/site-packages/phylanx-0.0.1-py3.5-linux-x86_64.egg/phylanx/ast/transformation.py\u001b[0m in \u001b[0;36m_Module\u001b[0;34m(self, a)\u001b[0m\n\u001b[1;32m    207\u001b[0m     \u001b[0;32mdef\u001b[0m \u001b[0m_Module\u001b[0m\u001b[0;34m(\u001b[0m\u001b[0mself\u001b[0m\u001b[0;34m,\u001b[0m \u001b[0ma\u001b[0m\u001b[0;34m)\u001b[0m\u001b[0;34m:\u001b[0m\u001b[0;34m\u001b[0m\u001b[0m\n\u001b[1;32m    208\u001b[0m         \u001b[0margs\u001b[0m \u001b[0;34m=\u001b[0m \u001b[0;34m[\u001b[0m\u001b[0marg\u001b[0m \u001b[0;32mfor\u001b[0m \u001b[0marg\u001b[0m \u001b[0;32min\u001b[0m \u001b[0mast\u001b[0m\u001b[0;34m.\u001b[0m\u001b[0miter_child_nodes\u001b[0m\u001b[0;34m(\u001b[0m\u001b[0ma\u001b[0m\u001b[0;34m)\u001b[0m\u001b[0;34m]\u001b[0m\u001b[0;34m\u001b[0m\u001b[0m\n\u001b[0;32m--> 209\u001b[0;31m         \u001b[0;32mreturn\u001b[0m \u001b[0mself\u001b[0m\u001b[0;34m.\u001b[0m\u001b[0mrecompile\u001b[0m\u001b[0;34m(\u001b[0m\u001b[0margs\u001b[0m\u001b[0;34m[\u001b[0m\u001b[0;36m0\u001b[0m\u001b[0;34m]\u001b[0m\u001b[0;34m)\u001b[0m\u001b[0;34m\u001b[0m\u001b[0m\n\u001b[0m\u001b[1;32m    210\u001b[0m \u001b[0;34m\u001b[0m\u001b[0m\n\u001b[1;32m    211\u001b[0m     \u001b[0;32mdef\u001b[0m \u001b[0m_Return\u001b[0m\u001b[0;34m(\u001b[0m\u001b[0mself\u001b[0m\u001b[0;34m,\u001b[0m \u001b[0ma\u001b[0m\u001b[0;34m,\u001b[0m \u001b[0mallowreturn\u001b[0m\u001b[0;34m=\u001b[0m\u001b[0;32mFalse\u001b[0m\u001b[0;34m)\u001b[0m\u001b[0;34m:\u001b[0m\u001b[0;34m\u001b[0m\u001b[0m\n",
      "\u001b[0;32m~/.local/lib/python3.5/site-packages/phylanx-0.0.1-py3.5-linux-x86_64.egg/phylanx/ast/transformation.py\u001b[0m in \u001b[0;36mrecompile\u001b[0;34m(self, a, allowreturn)\u001b[0m\n\u001b[1;32m    376\u001b[0m                 \u001b[0;32mreturn\u001b[0m \u001b[0mself\u001b[0m\u001b[0;34m.\u001b[0m\u001b[0mnodes\u001b[0m\u001b[0;34m[\u001b[0m\u001b[0mnm\u001b[0m\u001b[0;34m]\u001b[0m\u001b[0;34m(\u001b[0m\u001b[0mself\u001b[0m\u001b[0;34m,\u001b[0m \u001b[0ma\u001b[0m\u001b[0;34m,\u001b[0m \u001b[0mallowreturn\u001b[0m\u001b[0;34m)\u001b[0m\u001b[0;34m\u001b[0m\u001b[0m\n\u001b[1;32m    377\u001b[0m             \u001b[0;32melse\u001b[0m\u001b[0;34m:\u001b[0m\u001b[0;34m\u001b[0m\u001b[0m\n\u001b[0;32m--> 378\u001b[0;31m                 \u001b[0;32mreturn\u001b[0m \u001b[0mself\u001b[0m\u001b[0;34m.\u001b[0m\u001b[0mnodes\u001b[0m\u001b[0;34m[\u001b[0m\u001b[0mnm\u001b[0m\u001b[0;34m]\u001b[0m\u001b[0;34m(\u001b[0m\u001b[0mself\u001b[0m\u001b[0;34m,\u001b[0m \u001b[0ma\u001b[0m\u001b[0;34m)\u001b[0m\u001b[0;34m\u001b[0m\u001b[0m\n\u001b[0m\u001b[1;32m    379\u001b[0m         \u001b[0;32mexcept\u001b[0m \u001b[0mNotImplementedError\u001b[0m\u001b[0;34m:\u001b[0m\u001b[0;34m\u001b[0m\u001b[0m\n\u001b[1;32m    380\u001b[0m             \u001b[0;32mraise\u001b[0m \u001b[0mException\u001b[0m\u001b[0;34m(\u001b[0m\u001b[0;34m'unsupported AST node type: %s'\u001b[0m \u001b[0;34m%\u001b[0m \u001b[0mnm\u001b[0m\u001b[0;34m)\u001b[0m\u001b[0;34m\u001b[0m\u001b[0m\n",
      "\u001b[0;32m~/.local/lib/python3.5/site-packages/phylanx-0.0.1-py3.5-linux-x86_64.egg/phylanx/ast/transformation.py\u001b[0m in \u001b[0;36m_FunctionDef\u001b[0;34m(self, a)\u001b[0m\n\u001b[1;32m    154\u001b[0m                     \u001b[0ms\u001b[0m \u001b[0;34m+=\u001b[0m \u001b[0mself\u001b[0m\u001b[0;34m.\u001b[0m\u001b[0mrecompile\u001b[0m\u001b[0;34m(\u001b[0m\u001b[0maa\u001b[0m\u001b[0;34m,\u001b[0m \u001b[0;32mTrue\u001b[0m\u001b[0;34m)\u001b[0m\u001b[0;34m\u001b[0m\u001b[0m\n\u001b[1;32m    155\u001b[0m                 \u001b[0;32melse\u001b[0m\u001b[0;34m:\u001b[0m\u001b[0;34m\u001b[0m\u001b[0m\n\u001b[0;32m--> 156\u001b[0;31m                     \u001b[0ms\u001b[0m \u001b[0;34m+=\u001b[0m \u001b[0mself\u001b[0m\u001b[0;34m.\u001b[0m\u001b[0mrecompile\u001b[0m\u001b[0;34m(\u001b[0m\u001b[0maa\u001b[0m\u001b[0;34m,\u001b[0m \u001b[0;32mFalse\u001b[0m\u001b[0;34m)\u001b[0m\u001b[0;34m\u001b[0m\u001b[0m\n\u001b[0m\u001b[1;32m    157\u001b[0m                     \u001b[0ms\u001b[0m \u001b[0;34m+=\u001b[0m \u001b[0;34m\", \"\u001b[0m\u001b[0;34m\u001b[0m\u001b[0m\n\u001b[1;32m    158\u001b[0m             \u001b[0ms\u001b[0m \u001b[0;34m+=\u001b[0m \u001b[0;34m\")\"\u001b[0m\u001b[0;34m\u001b[0m\u001b[0m\n",
      "\u001b[0;32m~/.local/lib/python3.5/site-packages/phylanx-0.0.1-py3.5-linux-x86_64.egg/phylanx/ast/transformation.py\u001b[0m in \u001b[0;36mrecompile\u001b[0;34m(self, a, allowreturn)\u001b[0m\n\u001b[1;32m    376\u001b[0m                 \u001b[0;32mreturn\u001b[0m \u001b[0mself\u001b[0m\u001b[0;34m.\u001b[0m\u001b[0mnodes\u001b[0m\u001b[0;34m[\u001b[0m\u001b[0mnm\u001b[0m\u001b[0;34m]\u001b[0m\u001b[0;34m(\u001b[0m\u001b[0mself\u001b[0m\u001b[0;34m,\u001b[0m \u001b[0ma\u001b[0m\u001b[0;34m,\u001b[0m \u001b[0mallowreturn\u001b[0m\u001b[0;34m)\u001b[0m\u001b[0;34m\u001b[0m\u001b[0m\n\u001b[1;32m    377\u001b[0m             \u001b[0;32melse\u001b[0m\u001b[0;34m:\u001b[0m\u001b[0;34m\u001b[0m\u001b[0m\n\u001b[0;32m--> 378\u001b[0;31m                 \u001b[0;32mreturn\u001b[0m \u001b[0mself\u001b[0m\u001b[0;34m.\u001b[0m\u001b[0mnodes\u001b[0m\u001b[0;34m[\u001b[0m\u001b[0mnm\u001b[0m\u001b[0;34m]\u001b[0m\u001b[0;34m(\u001b[0m\u001b[0mself\u001b[0m\u001b[0;34m,\u001b[0m \u001b[0ma\u001b[0m\u001b[0;34m)\u001b[0m\u001b[0;34m\u001b[0m\u001b[0m\n\u001b[0m\u001b[1;32m    379\u001b[0m         \u001b[0;32mexcept\u001b[0m \u001b[0mNotImplementedError\u001b[0m\u001b[0;34m:\u001b[0m\u001b[0;34m\u001b[0m\u001b[0m\n\u001b[1;32m    380\u001b[0m             \u001b[0;32mraise\u001b[0m \u001b[0mException\u001b[0m\u001b[0;34m(\u001b[0m\u001b[0;34m'unsupported AST node type: %s'\u001b[0m \u001b[0;34m%\u001b[0m \u001b[0mnm\u001b[0m\u001b[0;34m)\u001b[0m\u001b[0;34m\u001b[0m\u001b[0m\n",
      "\u001b[0;32m~/.local/lib/python3.5/site-packages/phylanx-0.0.1-py3.5-linux-x86_64.egg/phylanx/ast/transformation.py\u001b[0m in \u001b[0;36m_If\u001b[0;34m(self, a, allowreturn)\u001b[0m\n\u001b[1;32m    265\u001b[0m             \u001b[0ms\u001b[0m \u001b[0;34m+=\u001b[0m \u001b[0;34m\")\"\u001b[0m\u001b[0;34m\u001b[0m\u001b[0m\n\u001b[1;32m    266\u001b[0m         \u001b[0;32melse\u001b[0m\u001b[0;34m:\u001b[0m\u001b[0;34m\u001b[0m\u001b[0m\n\u001b[0;32m--> 267\u001b[0;31m             \u001b[0ms\u001b[0m \u001b[0;34m+=\u001b[0m \u001b[0mself\u001b[0m\u001b[0;34m.\u001b[0m\u001b[0mrecompile\u001b[0m\u001b[0;34m(\u001b[0m\u001b[0ma\u001b[0m\u001b[0;34m.\u001b[0m\u001b[0mbody\u001b[0m\u001b[0;34m[\u001b[0m\u001b[0;36m0\u001b[0m\u001b[0;34m]\u001b[0m\u001b[0;34m,\u001b[0m \u001b[0mallowreturn\u001b[0m\u001b[0;34m)\u001b[0m\u001b[0;34m\u001b[0m\u001b[0m\n\u001b[0m\u001b[1;32m    268\u001b[0m         \u001b[0ms\u001b[0m \u001b[0;34m+=\u001b[0m \u001b[0;34m\",\"\u001b[0m\u001b[0;34m\u001b[0m\u001b[0m\n\u001b[1;32m    269\u001b[0m         \u001b[0;32mif\u001b[0m \u001b[0mlen\u001b[0m\u001b[0;34m(\u001b[0m\u001b[0ma\u001b[0m\u001b[0;34m.\u001b[0m\u001b[0morelse\u001b[0m\u001b[0;34m)\u001b[0m \u001b[0;34m>\u001b[0m \u001b[0;36m1\u001b[0m\u001b[0;34m:\u001b[0m\u001b[0;34m\u001b[0m\u001b[0m\n",
      "\u001b[0;32m~/.local/lib/python3.5/site-packages/phylanx-0.0.1-py3.5-linux-x86_64.egg/phylanx/ast/transformation.py\u001b[0m in \u001b[0;36mrecompile\u001b[0;34m(self, a, allowreturn)\u001b[0m\n\u001b[1;32m    376\u001b[0m                 \u001b[0;32mreturn\u001b[0m \u001b[0mself\u001b[0m\u001b[0;34m.\u001b[0m\u001b[0mnodes\u001b[0m\u001b[0;34m[\u001b[0m\u001b[0mnm\u001b[0m\u001b[0;34m]\u001b[0m\u001b[0;34m(\u001b[0m\u001b[0mself\u001b[0m\u001b[0;34m,\u001b[0m \u001b[0ma\u001b[0m\u001b[0;34m,\u001b[0m \u001b[0mallowreturn\u001b[0m\u001b[0;34m)\u001b[0m\u001b[0;34m\u001b[0m\u001b[0m\n\u001b[1;32m    377\u001b[0m             \u001b[0;32melse\u001b[0m\u001b[0;34m:\u001b[0m\u001b[0;34m\u001b[0m\u001b[0m\n\u001b[0;32m--> 378\u001b[0;31m                 \u001b[0;32mreturn\u001b[0m \u001b[0mself\u001b[0m\u001b[0;34m.\u001b[0m\u001b[0mnodes\u001b[0m\u001b[0;34m[\u001b[0m\u001b[0mnm\u001b[0m\u001b[0;34m]\u001b[0m\u001b[0;34m(\u001b[0m\u001b[0mself\u001b[0m\u001b[0;34m,\u001b[0m \u001b[0ma\u001b[0m\u001b[0;34m)\u001b[0m\u001b[0;34m\u001b[0m\u001b[0m\n\u001b[0m\u001b[1;32m    379\u001b[0m         \u001b[0;32mexcept\u001b[0m \u001b[0mNotImplementedError\u001b[0m\u001b[0;34m:\u001b[0m\u001b[0;34m\u001b[0m\u001b[0m\n\u001b[1;32m    380\u001b[0m             \u001b[0;32mraise\u001b[0m \u001b[0mException\u001b[0m\u001b[0;34m(\u001b[0m\u001b[0;34m'unsupported AST node type: %s'\u001b[0m \u001b[0;34m%\u001b[0m \u001b[0mnm\u001b[0m\u001b[0;34m)\u001b[0m\u001b[0;34m\u001b[0m\u001b[0m\n",
      "\u001b[0;32m~/.local/lib/python3.5/site-packages/phylanx-0.0.1-py3.5-linux-x86_64.egg/phylanx/ast/transformation.py\u001b[0m in \u001b[0;36m_Return\u001b[0;34m(self, a, allowreturn)\u001b[0m\n\u001b[1;32m    212\u001b[0m         \u001b[0;32mif\u001b[0m \u001b[0;32mnot\u001b[0m \u001b[0mallowreturn\u001b[0m\u001b[0;34m:\u001b[0m\u001b[0;34m\u001b[0m\u001b[0m\n\u001b[1;32m    213\u001b[0m             raise Exception(\n\u001b[0;32m--> 214\u001b[0;31m                 \"Return only allowed at end of function: line=%d\\n\" % a.lineno)\n\u001b[0m\u001b[1;32m    215\u001b[0m         \u001b[0margs\u001b[0m \u001b[0;34m=\u001b[0m \u001b[0;34m[\u001b[0m\u001b[0marg\u001b[0m \u001b[0;32mfor\u001b[0m \u001b[0marg\u001b[0m \u001b[0;32min\u001b[0m \u001b[0mast\u001b[0m\u001b[0;34m.\u001b[0m\u001b[0miter_child_nodes\u001b[0m\u001b[0;34m(\u001b[0m\u001b[0ma\u001b[0m\u001b[0;34m)\u001b[0m\u001b[0;34m]\u001b[0m\u001b[0;34m\u001b[0m\u001b[0m\n\u001b[1;32m    216\u001b[0m         \u001b[0;32mreturn\u001b[0m \u001b[0;34m\" \"\u001b[0m \u001b[0;34m+\u001b[0m \u001b[0mself\u001b[0m\u001b[0;34m.\u001b[0m\u001b[0mrecompile\u001b[0m\u001b[0;34m(\u001b[0m\u001b[0margs\u001b[0m\u001b[0;34m[\u001b[0m\u001b[0;36m0\u001b[0m\u001b[0;34m]\u001b[0m\u001b[0;34m)\u001b[0m\u001b[0;34m\u001b[0m\u001b[0m\n",
      "\u001b[0;31mException\u001b[0m: Return only allowed at end of function: line=3\n"
     ]
    }
   ],
   "source": [
    "@Phylanx()\n",
    "def fib(n):\n",
    "    if n < 2:\n",
    "        return n\n",
    "    f1 = fib(n-1)\n",
    "    f2 = fib(n-2)\n",
    "    return f1+f2 # Doesn't work, the underlying PhySL only supports a single return"
   ]
  },
  {
   "cell_type": "code",
   "execution_count": 14,
   "metadata": {},
   "outputs": [],
   "source": [
    "@Phylanx()\n",
    "def fib(n):\n",
    "    if n < 2:\n",
    "        return n\n",
    "    else:\n",
    "        return fib(n-1)+fib(n-2) # OK, if every switch in an if/elif/else block\n",
    "                                 # does a return, that counts as a single return"
   ]
  },
  {
   "cell_type": "code",
   "execution_count": 15,
   "metadata": {},
   "outputs": [
    {
     "data": {
      "text/plain": [
       "21.0"
      ]
     },
     "execution_count": 15,
     "metadata": {},
     "output_type": "execute_result"
    }
   ],
   "source": [
    "fib(8)[0]"
   ]
  },
  {
   "cell_type": "code",
   "execution_count": 16,
   "metadata": {},
   "outputs": [
    {
     "name": "stdout",
     "output_type": "stream",
     "text": [
      "bye\n",
      "block(define(sw, s, if(s == \"hello\", \"hi\",if(s == \"goodbye\", \"bye\", \"?\"))), sw)\n",
      "\n"
     ]
    }
   ],
   "source": [
    "@Phylanx()\n",
    "def sw(s):\n",
    "    # if / elif /else works\n",
    "    if s == \"hello\":\n",
    "        return \"hi\"\n",
    "    elif s == \"goodbye\":\n",
    "        return \"bye\"\n",
    "    else:\n",
    "        return \"?\"\n",
    "print(sw(\"goodbye\"))\n",
    "print(re.sub(r'\\$\\d+','',sw.__physl_src__))"
   ]
  },
  {
   "cell_type": "code",
   "execution_count": 17,
   "metadata": {},
   "outputs": [
    {
     "name": "stdout",
     "output_type": "stream",
     "text": [
      "block(define(floop, block(define(sum,0), define(n,-(1)), if(n > 0,for(define(i,10),i < 1,store(i,i+n),block(store(sum,sum+i))),for(define(i,10),i > 1,store(i,i+n),block(store(sum,sum+i)))),  sum)), floop)\n",
      "\n",
      "54\n"
     ]
    }
   ],
   "source": [
    "@Phylanx()\n",
    "def floop():\n",
    "    sum = 0\n",
    "    n = -1\n",
    "    for i in range(10,1,n): # Basic for loops work\n",
    "        sum += i\n",
    "    return sum\n",
    "print(re.sub(r'\\$\\d+','',floop.__physl_src__))\n",
    "print(floop())"
   ]
  },
  {
   "cell_type": "code",
   "execution_count": 18,
   "metadata": {},
   "outputs": [
    {
     "name": "stdout",
     "output_type": "stream",
     "text": [
      "45\n"
     ]
    }
   ],
   "source": [
    "@Phylanx()\n",
    "def wloop():\n",
    "    sum = 0\n",
    "    i = 0\n",
    "    while i < 10: # basic while loops work\n",
    "        sum += i\n",
    "        i += 1\n",
    "    return sum\n",
    "print(wloop())"
   ]
  },
  {
   "cell_type": "code",
   "execution_count": 19,
   "metadata": {},
   "outputs": [
    {
     "name": "stdout",
     "output_type": "stream",
     "text": [
      "[0, 0, 0, 0, 0, 0, 0, 0, 0, 0]\n"
     ]
    }
   ],
   "source": [
    "import numpy as np\n",
    "\n",
    "@Phylanx()\n",
    "def ar():\n",
    "    return constant(0,10) # creation of phylanx arrays\n",
    "print(ar())\n",
    "assert ar() == np.zeros(10) # compare with numpy"
   ]
  },
  {
   "cell_type": "code",
   "execution_count": 20,
   "metadata": {},
   "outputs": [
    {
     "name": "stdout",
     "output_type": "stream",
     "text": [
      "[3, 4, 5, 6, 7]\n"
     ]
    }
   ],
   "source": [
    "@Phylanx()\n",
    "def ar2(a):\n",
    "    return a[3:8]\n",
    "print(ar2(np.linspace(0,10,11))) # you can pass numpy arrays"
   ]
  },
  {
   "cell_type": "code",
   "execution_count": 21,
   "metadata": {},
   "outputs": [
    {
     "name": "stdout",
     "output_type": "stream",
     "text": [
      "1.4660777870530044\n",
      "2.1753973169666887\n",
      "8.607506009599426\n",
      "3.8683427321006554\n",
      "0.014103556383654771\n",
      "-0.0034904356047104775\n",
      "-0.023108908034423236\n",
      "-0.00996550404834849\n",
      "0.02679073480864044\n",
      "0.011034305003479293\n",
      "0.00570457098114057\n",
      "0.1465402590294279\n",
      "-0.031519040099807126\n",
      "-3.7435783680219563\n",
      "0.0008180767053176969\n",
      "-0.001092561810918235\n",
      "-0.0024513652094121327\n",
      "-0.00020053639122219802\n",
      "0.0024897987887794112\n",
      "0.00022004547317046596\n",
      "1.5497531958808144\n",
      "2.795818676641823\n",
      "8.783537220330045\n",
      "-5.050962633585487\n",
      "0.01803008202668555\n",
      "-0.018165348612708906\n",
      "-0.0451929407737975\n",
      "-0.010102790322770713\n",
      "0.03786452009149631\n",
      "0.01086804591972698\n"
     ]
    }
   ],
   "source": [
    "# %load ./examples/algorithms/lra_csv_phyfun.py\n",
    "#  Copyright (c) 2018 Steven R. Brandt\n",
    "#  Copyright (c) 2018 R. Tohid\n",
    "#\n",
    "#  Distributed under the Boost Software License, Version 1.0. (See accompanying\n",
    "#  file LICENSE_1_0.txt or copy at http://www.boost.org/LICENSE_1_0.txt)\n",
    "\n",
    "import phylanx\n",
    "from phylanx.ast import *\n",
    "from phylanx.ast.utils import printout\n",
    "\n",
    "\n",
    "@Phylanx(\"PhySL\")\n",
    "def lra(file_name, xlo1, xhi1, ylo1, yhi1, xlo2, xhi2, ylo2, yhi2, alpha,\n",
    "        iterations, enable_output):\n",
    "    data = file_read_csv(file_name)\n",
    "    x = data[xlo1:xhi1, ylo1:yhi1]\n",
    "    y = data[xlo2:xhi2, ylo2:yhi2]\n",
    "    weights = constant(0.0, shape(x, 1))\n",
    "    transx = transpose(x)\n",
    "    pred = constant(0.0, shape(x, 0))\n",
    "    error = constant(0.0, shape(x, 0))\n",
    "    gradient = constant(0.0, shape(x, 1))\n",
    "    step = 0\n",
    "    while step < iterations:\n",
    "        if enable_output:\n",
    "            print(\"step: \", step, \", \", weights)\n",
    "        pred = 1.0 / (1.0 + exp(-dot(x, weights)))\n",
    "        error = pred - y\n",
    "        gradient = dot(transx, error)\n",
    "        weights = weights - (alpha * gradient)\n",
    "        step += 1\n",
    "    return weights\n",
    "\n",
    "\n",
    "res = lra(\"breast_cancer.csv\", 0, 569, 0, 30, 0, 569, 30, 31, 1e-5, 750, 0)\n",
    "printout(res)\n"
   ]
  },
  {
   "cell_type": "code",
   "execution_count": 22,
   "metadata": {},
   "outputs": [
    {
     "name": "stdout",
     "output_type": "stream",
     "text": [
      "1.4660777870530044\n",
      "2.1753973169666887\n",
      "8.607506009599426\n",
      "3.8683427321006554\n",
      "0.014103556383654771\n",
      "-0.0034904356047104775\n",
      "-0.023108908034423236\n",
      "-0.00996550404834849\n",
      "0.02679073480864044\n",
      "0.011034305003479293\n",
      "0.00570457098114057\n",
      "0.1465402590294279\n",
      "-0.031519040099807126\n",
      "-3.7435783680219563\n",
      "0.0008180767053176969\n",
      "-0.001092561810918235\n",
      "-0.0024513652094121327\n",
      "-0.00020053639122219802\n",
      "0.0024897987887794112\n",
      "0.00022004547317046596\n",
      "1.5497531958808144\n",
      "2.795818676641823\n",
      "8.783537220330045\n",
      "-5.050962633585487\n",
      "0.01803008202668555\n",
      "-0.018165348612708906\n",
      "-0.0451929407737975\n",
      "-0.010102790322770713\n",
      "0.03786452009149631\n",
      "0.01086804591972698\n"
     ]
    }
   ],
   "source": [
    "# %load ./examples/algorithms/lra_csv_phyfun_np.py\n",
    "#  Copyright (c) 2018 Steven R. Brandt\n",
    "#  Copyright (c) 2018 R. Tohid\n",
    "#\n",
    "#  Distributed under the Boost Software License, Version 1.0. (See accompanying\n",
    "#  file LICENSE_1_0.txt or copy at http://www.boost.org/LICENSE_1_0.txt)\n",
    "import phylanx\n",
    "import numpy as np\n",
    "from phylanx.ast import *\n",
    "from phylanx.ast.utils import printout\n",
    "\n",
    "\n",
    "@Phylanx(\"PhySL\")\n",
    "def lra(x, y, alpha, iterations, enable_output):\n",
    "    weights = constant(0.0, shape(x, 1))\n",
    "    transx = transpose(x)\n",
    "    pred = constant(0.0, shape(x, 0))\n",
    "    error = constant(0.0, shape(x, 0))\n",
    "    gradient = constant(0.0, shape(x, 1))\n",
    "    step = 0\n",
    "    while step < iterations:\n",
    "        if (enable_output):\n",
    "            print(\"step: \", step, \", \", weights)\n",
    "        pred = 1.0 / (1.0 + exp(-dot(x, weights)))\n",
    "        error = pred - y\n",
    "        gradient = dot(transx, error)\n",
    "        weights = weights - (alpha * gradient)\n",
    "        step += 1\n",
    "    return weights\n",
    "\n",
    "\n",
    "file_name = \"breast_cancer.csv\"\n",
    "\n",
    "data = np.genfromtxt(file_name, skip_header=1, delimiter=\",\")\n",
    "x = data[:, :-1]\n",
    "y = data[:, -1:]\n",
    "y = y.reshape((y.shape[0], ))\n",
    "res = lra(x, y, 1e-5, 750, 0)\n",
    "printout(res)\n"
   ]
  },
  {
   "cell_type": "markdown",
   "metadata": {},
   "source": [
    "Partial list of things that don't work yet.\n",
    "* Using one phyfun function from within another\n",
    "* direct creation of data structures, i.e. [3,4,2,9]\n",
    "* Automatic conversion of return types to python types\n",
    "* Step arguments to Python slice operators\n",
    "* Nonetype as a return value\n",
    "* Jupyter magics for phylanx\n",
    "* parallel blocks / asyncs lambdas\n",
    "* Fix print function for Jupyter\n",
    "<pre>\n",
    "\n",
    "\n",
    "\n",
    "\n",
    "\n",
    "\n",
    "\n",
    "\n",
    "\n",
    "\n",
    "\n",
    "\n",
    "</pre>"
   ]
  },
  {
   "cell_type": "code",
   "execution_count": 1,
   "metadata": {},
   "outputs": [
    {
     "name": "stdout",
     "output_type": "stream",
     "text": [
      "No function!\n",
      "i= 1\n",
      "i= 2\n",
      "i= 3\n",
      "i= 4\n",
      "i= 5\n",
      "i= 6\n",
      "i= 7\n",
      "i= 8\n",
      "i= 9\n",
      "i= 10\n"
     ]
    }
   ],
   "source": [
    "%%phylanx_cell\n",
    "print(\"No function!\")\n",
    "for i in range(10):\n",
    "    print(\"i=\",i+1)"
   ]
  },
  {
   "cell_type": "code",
   "execution_count": null,
   "metadata": {},
   "outputs": [],
   "source": [
    "# %load /home/sbrandt/.ipython/profile_default/startup/magics.py\n",
    "from __future__ import print_function\n",
    "from IPython.core.magic import (Magics, magics_class, line_magic,\n",
    "                                cell_magic, line_cell_magic)\n",
    "\n",
    "import ast,re,os\n",
    "from threading import Thread\n",
    "\n",
    "from phylanx.ast import *\n",
    "\n",
    "def readfds(fd):\n",
    "    while True:\n",
    "        result=os.read(fd,1000)\n",
    "        print(result.decode('utf-8'),end='')\n",
    "\n",
    "class IORedirecter:\n",
    "    def __init__(self):\n",
    "        self.fds = os.pipe()\n",
    "        self.threadReadFDs = Thread(target=readfds,args=(self.fds[0],))\n",
    "        self.threadReadFDs.start()\n",
    "        self.saveStdout = os.dup(1)\n",
    "    def __enter__(self):\n",
    "        os.close(1)\n",
    "        os.dup(self.fds[1])\n",
    "    def __exit__(self,type,value,traceback):\n",
    "        os.close(1)\n",
    "        os.dup(self.saveStdout)\n",
    "\n",
    "iod = IORedirecter()\n",
    "\n",
    "# The class MUST call this class decorator at creation time\n",
    "@magics_class\n",
    "class MyMagics(Magics):\n",
    "\n",
    "    @cell_magic\n",
    "    def phylanx_cell(self,line,cell=None):\n",
    "        tcell = 'def _cell_():\\n  '+re.sub('\\n','\\n  ',cell)+'\\n  return 1'\n",
    "        tree = ast.parse(tcell)\n",
    "        physl = PhySL()\n",
    "        assert len(tree.body) == 1\n",
    "\n",
    "        self.__physl_src__ = '%s(%s)\\n' % (\n",
    "            full_node_name(tree.body[0], 'block'), physl.recompile(tree))\n",
    "        with iod:\n",
    "            et.eval(self.__physl_src__)\n",
    "\n",
    "ip = get_ipython()\n",
    "ip.register_magics(MyMagics)\n"
   ]
  },
  {
   "cell_type": "code",
   "execution_count": null,
   "metadata": {},
   "outputs": [],
   "source": []
  }
 ],
 "metadata": {
  "kernelspec": {
   "display_name": "Python 3",
   "language": "python",
   "name": "python3"
  },
  "language_info": {
   "codemirror_mode": {
    "name": "ipython",
    "version": 3
   },
   "file_extension": ".py",
   "mimetype": "text/x-python",
   "name": "python",
   "nbconvert_exporter": "python",
   "pygments_lexer": "ipython3",
   "version": "3.5.3"
  }
 },
 "nbformat": 4,
 "nbformat_minor": 2
}
